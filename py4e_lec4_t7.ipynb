{
 "cells": [
  {
   "cell_type": "code",
   "execution_count": 3,
   "metadata": {},
   "outputs": [
    {
     "name": "stdout",
     "output_type": "stream",
     "text": [
      "your grade is E .\n"
     ]
    }
   ],
   "source": [
    "def computegrade(score):\n",
    "    if isinstance(score , (int,float)):  #this will be get the score into int or float\n",
    "        if 0.0 <= score <= 1.0 :\n",
    "            if score >= 0.9:\n",
    "                return 'A'\n",
    "            elif score >= 0.8:\n",
    "                return 'B'\n",
    "            elif score >= 0.7:\n",
    "                return 'C'\n",
    "            elif score >= 0.6:\n",
    "                return 'D'\n",
    "            elif score >= 0.5:\n",
    "                return 'E'\n",
    "            elif score >= 0.4:\n",
    "                return 'F'\n",
    "            elif score >= 0.3:\n",
    "                return 'G'\n",
    "            elif score >= 0.2:\n",
    "                return 'H'\n",
    "            elif score >= 0.1:\n",
    "                return 'I'\n",
    "            else:\n",
    "                raise ValueError('bad score!')    #this will get that is error mode!\n",
    "        else:\n",
    "            raise ValueError('invalid entry!')\n",
    "     \n",
    "try:\n",
    "    score = float(input('please enter your score = '))\n",
    "    result = computegrade(score)\n",
    "    print('your grade is' , result , '.')\n",
    "except ValueError as ve:\n",
    "    print(ve)"
   ]
  },
  {
   "cell_type": "code",
   "execution_count": 1,
   "metadata": {},
   "outputs": [
    {
     "name": "stdout",
     "output_type": "stream",
     "text": [
      "your grade is G.\n"
     ]
    }
   ],
   "source": [
    "\n",
    "    "
   ]
  },
  {
   "cell_type": "code",
   "execution_count": null,
   "metadata": {},
   "outputs": [],
   "source": []
  }
 ],
 "metadata": {
  "kernelspec": {
   "display_name": "Python 3",
   "language": "python",
   "name": "python3"
  },
  "language_info": {
   "codemirror_mode": {
    "name": "ipython",
    "version": 3
   },
   "file_extension": ".py",
   "mimetype": "text/x-python",
   "name": "python",
   "nbconvert_exporter": "python",
   "pygments_lexer": "ipython3",
   "version": "3.9.18"
  }
 },
 "nbformat": 4,
 "nbformat_minor": 2
}
