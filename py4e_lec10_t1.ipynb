{
 "cells": [
  {
   "cell_type": "code",
   "execution_count": 16,
   "metadata": {},
   "outputs": [
    {
     "name": "stdout",
     "output_type": "stream",
     "text": [
      "zqian@umich.edu 195\n"
     ]
    }
   ],
   "source": [
    "fname = open(input('Enter a file name ='))\n",
    "dict = {}\n",
    "for line in fname:\n",
    "    line = line.rstrip()\n",
    "    line = line.lower()\n",
    "    if not line.startswith('from:') : continue\n",
    "    line = line.split()\n",
    "    line = line[1]\n",
    "    dict[line] = dict.get(line , 0) + 1\n",
    "lst = list(dict.items())\n",
    "lst.sort(key = lambda x : x[1] , reverse=True)\n",
    "for i , j in lst[:1]:\n",
    "    print(i , j)\n",
    "\n",
    "    \n",
    "    "
   ]
  },
  {
   "cell_type": "code",
   "execution_count": null,
   "metadata": {},
   "outputs": [],
   "source": []
  }
 ],
 "metadata": {
  "kernelspec": {
   "display_name": "Python 3",
   "language": "python",
   "name": "python3"
  },
  "language_info": {
   "codemirror_mode": {
    "name": "ipython",
    "version": 3
   },
   "file_extension": ".py",
   "mimetype": "text/x-python",
   "name": "python",
   "nbconvert_exporter": "python",
   "pygments_lexer": "ipython3",
   "version": "3.11.6"
  }
 },
 "nbformat": 4,
 "nbformat_minor": 2
}
