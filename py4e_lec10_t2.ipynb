{
 "cells": [
  {
   "cell_type": "code",
   "execution_count": 65,
   "metadata": {},
   "outputs": [
    {
     "name": "stdout",
     "output_type": "stream",
     "text": [
      "hours max repeat\n",
      "11       6\n",
      "16       4\n",
      "10       3\n",
      "04       3\n",
      "09       2\n",
      "15       2\n",
      "17       2\n",
      "18       1\n",
      "14       1\n",
      "07       1\n",
      "06       1\n",
      "19       1\n"
     ]
    }
   ],
   "source": [
    "import string\n",
    "fname = open('mbox-short.txt')\n",
    "dict = {}\n",
    "for line in fname:\n",
    "    line = line.rstrip()\n",
    "    line = line.lower()\n",
    "    if not line.startswith('from'):continue\n",
    "    line = line.split()\n",
    "    if len(line) > 2:\n",
    "        line = line[5]\n",
    "        line = line.split(':')\n",
    "        line = line[0]\n",
    "        dict[line] = dict.get(line , 0) + 1\n",
    "lst = list(dict.items())\n",
    "lst.sort(key = lambda x:x[1] , reverse=True)\n",
    "print('hours' , 'max repeat')\n",
    "for i , j in lst:\n",
    "    print(i ,'     ', j)\n",
    "    "
   ]
  }
 ],
 "metadata": {
  "kernelspec": {
   "display_name": "Python 3",
   "language": "python",
   "name": "python3"
  },
  "language_info": {
   "codemirror_mode": {
    "name": "ipython",
    "version": 3
   },
   "file_extension": ".py",
   "mimetype": "text/x-python",
   "name": "python",
   "nbconvert_exporter": "python",
   "pygments_lexer": "ipython3",
   "version": "3.11.6"
  }
 },
 "nbformat": 4,
 "nbformat_minor": 2
}
