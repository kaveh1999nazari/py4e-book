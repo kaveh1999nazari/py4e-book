{
 "cells": [
  {
   "cell_type": "code",
   "execution_count": 53,
   "metadata": {},
   "outputs": [
    {
     "name": "stdout",
     "output_type": "stream",
     "text": [
      "stephen.marquard@uct.ac.za\n",
      "louis@media.berkeley.edu\n",
      "zqian@umich.edu\n",
      "rjlowe@iupui.edu\n",
      "zqian@umich.edu\n",
      "rjlowe@iupui.edu\n",
      "cwen@iupui.edu\n",
      "cwen@iupui.edu\n",
      "gsilver@umich.edu\n",
      "gsilver@umich.edu\n",
      "zqian@umich.edu\n",
      "gsilver@umich.edu\n",
      "wagnermr@iupui.edu\n",
      "zqian@umich.edu\n",
      "antranig@caret.cam.ac.uk\n",
      "gopal.ramasammycook@gmail.com\n",
      "david.horwitz@uct.ac.za\n",
      "david.horwitz@uct.ac.za\n",
      "david.horwitz@uct.ac.za\n",
      "david.horwitz@uct.ac.za\n",
      "stephen.marquard@uct.ac.za\n",
      "louis@media.berkeley.edu\n",
      "louis@media.berkeley.edu\n",
      "ray@media.berkeley.edu\n",
      "cwen@iupui.edu\n",
      "cwen@iupui.edu\n",
      "cwen@iupui.edu\n",
      "number of lines = 27\n"
     ]
    }
   ],
   "source": [
    "fuser = input('Enter file name = ')\n",
    "fname = open(fuser)\n",
    "count = 0\n",
    "for line in fname:\n",
    "    line = line.rstrip()\n",
    "    if not line.startswith('From'): continue\n",
    "    y = line.split()\n",
    "    if len(y) >= 3:\n",
    "        print(y[1])\n",
    "        count += 1\n",
    "print(f'number of lines = {count}')"
   ]
  },
  {
   "cell_type": "code",
   "execution_count": null,
   "metadata": {},
   "outputs": [],
   "source": [
    "#lec 8 + 9\n",
    "fname = open('mbox-short.txt')\n",
    "dict = {}\n",
    "count = 0\n",
    "for line in fname:\n",
    "    line = line.rstrip()\n",
    "    line = line.lower()\n",
    "    if not line.startswith('from:'):continue\n",
    "    line = line.split()\n",
    "    line = line[1]\n",
    "    dict[line] = dict.get(line , 0) + 1\n",
    "    count +=1\n",
    "print(f'number of senders = {count}')\n",
    "print(dict)\n",
    "print(f'max sender = {max(dict,key = dict.get)}')"
   ]
  }
 ],
 "metadata": {
  "kernelspec": {
   "display_name": "Python 3",
   "language": "python",
   "name": "python3"
  },
  "language_info": {
   "codemirror_mode": {
    "name": "ipython",
    "version": 3
   },
   "file_extension": ".py",
   "mimetype": "text/x-python",
   "name": "python",
   "nbconvert_exporter": "python",
   "pygments_lexer": "ipython3",
   "version": "3.11.6"
  }
 },
 "nbformat": 4,
 "nbformat_minor": 2
}
