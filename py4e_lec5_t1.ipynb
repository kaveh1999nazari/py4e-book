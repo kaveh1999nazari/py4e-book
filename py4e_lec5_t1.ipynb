{
 "cells": [
  {
   "cell_type": "code",
   "execution_count": 4,
   "metadata": {},
   "outputs": [
    {
     "name": "stdout",
     "output_type": "stream",
     "text": [
      "invalid input\n",
      "total = 23\n",
      "count = 4\n",
      "averange = 5.75\n"
     ]
    }
   ],
   "source": [
    "if __name__ == '__main__':      #this would not give you error name is not defined!\n",
    "    numbers = []                #by this do numbers list is now none!\n",
    "while True:\n",
    "    try:\n",
    "        user = input('Enter a number = ')\n",
    "        if user.lower() == 'done':\n",
    "            break\n",
    "        number = float(user)\n",
    "        numbers.append(number)    #append will attach you your variable to your list that you introduced!\n",
    "    except ValueError:            #you can use ValueError or if you dont like you can press enter after except :\n",
    "        print('invalid input')\n",
    "if numbers:\n",
    "    total = sum(numbers)          #will sum all entrys that you input\n",
    "    count = len(numbers)          #will count all entrys that you input\n",
    "    averange = total / count      #will averange all entrys that you input\n",
    "    print('total =' , int(total))\n",
    "    print('count =' , count)\n",
    "    print('averange =' , averange)\n",
    "else:\n",
    "    print('enter a number atleast!')\n",
    "    "
   ]
  },
  {
   "cell_type": "code",
   "execution_count": null,
   "metadata": {},
   "outputs": [],
   "source": []
  }
 ],
 "metadata": {
  "kernelspec": {
   "display_name": "Python 3",
   "language": "python",
   "name": "python3"
  },
  "language_info": {
   "codemirror_mode": {
    "name": "ipython",
    "version": 3
   },
   "file_extension": ".py",
   "mimetype": "text/x-python",
   "name": "python",
   "nbconvert_exporter": "python",
   "pygments_lexer": "ipython3",
   "version": "3.11.6"
  }
 },
 "nbformat": 4,
 "nbformat_minor": 2
}
