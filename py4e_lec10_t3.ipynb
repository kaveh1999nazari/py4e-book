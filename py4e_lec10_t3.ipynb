{
 "cells": [
  {
   "cell_type": "code",
   "execution_count": 34,
   "metadata": {},
   "outputs": [
    {
     "name": "stdout",
     "output_type": "stream",
     "text": [
      "a 11\n",
      "b 2\n",
      "c 1\n",
      "d 6\n",
      "e 12\n",
      "f 3\n",
      "g 3\n",
      "h 9\n",
      "i 14\n",
      "j 1\n",
      "k 3\n",
      "l 6\n",
      "m 1\n",
      "n 9\n",
      "o 8\n",
      "p 1\n",
      "r 7\n",
      "s 11\n",
      "t 12\n",
      "u 6\n",
      "v 1\n",
      "w 5\n",
      "y 2\n"
     ]
    }
   ],
   "source": [
    "import string\n",
    "fname = open(input('Enter a file'))\n",
    "dict = {}\n",
    "for line in fname:\n",
    "    line = line.rstrip()\n",
    "    line = line.lower()\n",
    "    line = line.translate(line.maketrans('' , '' , string.punctuation))\n",
    "    for i in line:\n",
    "        if i.isalpha():\n",
    "            dict[i] = dict.get(i,0) + 1\n",
    "lst = list(dict.items())\n",
    "lst.sort(reverse=False)\n",
    "for i , j in lst:\n",
    "    print(i , j)\n",
    "        \n",
    "    "
   ]
  },
  {
   "cell_type": "code",
   "execution_count": null,
   "metadata": {},
   "outputs": [],
   "source": []
  }
 ],
 "metadata": {
  "kernelspec": {
   "display_name": "Python 3",
   "language": "python",
   "name": "python3"
  },
  "language_info": {
   "codemirror_mode": {
    "name": "ipython",
    "version": 3
   },
   "file_extension": ".py",
   "mimetype": "text/x-python",
   "name": "python",
   "nbconvert_exporter": "python",
   "pygments_lexer": "ipython3",
   "version": "3.11.6"
  }
 },
 "nbformat": 4,
 "nbformat_minor": 2
}
