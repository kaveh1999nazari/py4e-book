{
 "cells": [
  {
   "cell_type": "code",
   "execution_count": 17,
   "metadata": {},
   "outputs": [
    {
     "name": "stdout",
     "output_type": "stream",
     "text": [
      "sum = 1073437\n",
      "number = 27\n",
      "averange = 39756.92592592593\n"
     ]
    }
   ],
   "source": [
    "import re\n",
    "fname = open(input('Enter a file name = '))\n",
    "sum= 0\n",
    "count = []\n",
    "for line in fname:\n",
    "    line = line.rstrip()\n",
    "    line = line.lower()\n",
    "    find_word = re.findall('^new.*: ([0-9.]+)' , line)\n",
    "    if len(find_word) > 0:\n",
    "        for word in find_word:\n",
    "            word = int(word)\n",
    "            sum += word\n",
    "            count.append(word)\n",
    "            counts = len(count)\n",
    "print(f'sum = {sum}')\n",
    "print(f'number = {counts}')\n",
    "print(f'averange = {sum/counts}')\n",
    "            "
   ]
  },
  {
   "cell_type": "code",
   "execution_count": null,
   "metadata": {},
   "outputs": [],
   "source": []
  }
 ],
 "metadata": {
  "kernelspec": {
   "display_name": "Python 3",
   "language": "python",
   "name": "python3"
  },
  "language_info": {
   "codemirror_mode": {
    "name": "ipython",
    "version": 3
   },
   "file_extension": ".py",
   "mimetype": "text/x-python",
   "name": "python",
   "nbconvert_exporter": "python",
   "pygments_lexer": "ipython3",
   "version": "3.11.6"
  }
 },
 "nbformat": 4,
 "nbformat_minor": 2
}
