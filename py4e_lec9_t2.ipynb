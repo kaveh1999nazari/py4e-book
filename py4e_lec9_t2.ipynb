{
 "cells": [
  {
   "cell_type": "code",
   "execution_count": 45,
   "metadata": {},
   "outputs": [
    {
     "name": "stdout",
     "output_type": "stream",
     "text": [
      "{'sat': 1, 'fri': 20, 'thu': 6}\n"
     ]
    }
   ],
   "source": [
    "import string\n",
    "fname = open('mbox-short.txt')\n",
    "dict = {}\n",
    "for line in fname:\n",
    "    line = line.rstrip()\n",
    "    line = line.lower()\n",
    "    if not line.startswith('from'): continue\n",
    "    line = line.translate(line.maketrans('' , '' , string.punctuation))\n",
    "    line = line.split()\n",
    "    if len(line)> 3:\n",
    "        line = line[2]\n",
    "        if line not in dict:\n",
    "            dict[line] = 1\n",
    "        else:\n",
    "            dict[line] += 1\n",
    "print(dict)\n",
    "        "
   ]
  },
  {
   "cell_type": "code",
   "execution_count": null,
   "metadata": {},
   "outputs": [],
   "source": []
  }
 ],
 "metadata": {
  "kernelspec": {
   "display_name": "Python 3",
   "language": "python",
   "name": "python3"
  },
  "language_info": {
   "codemirror_mode": {
    "name": "ipython",
    "version": 3
   },
   "file_extension": ".py",
   "mimetype": "text/x-python",
   "name": "python",
   "nbconvert_exporter": "python",
   "pygments_lexer": "ipython3",
   "version": "3.11.6"
  }
 },
 "nbformat": 4,
 "nbformat_minor": 2
}
