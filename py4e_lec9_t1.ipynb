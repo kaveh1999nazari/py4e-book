{
 "cells": [
  {
   "cell_type": "code",
   "execution_count": 2,
   "metadata": {},
   "outputs": [
    {
     "name": "stdout",
     "output_type": "stream",
     "text": [
      "{'this': 1, 'is': 2, 'a': 3, 'test': 4, 'from': 5, 'kaveh': 6, 'nazari': 7}\n"
     ]
    }
   ],
   "source": [
    "fname = open('words.txt' , 'w')\n",
    "line1 = 'this is a test from kaveh nazari'\n",
    "fname.write(line1)\n",
    "fname.close()\n",
    "fname = open('words.txt')\n",
    "rname = fname.read()\n",
    "words = rname.split()\n",
    "dict = {}\n",
    "for word in words:\n",
    "    label = int(input(f'Enter a name for {word} :'))\n",
    "    dict[word] = label\n",
    "print(dict)"
   ]
  },
  {
   "cell_type": "code",
   "execution_count": null,
   "metadata": {},
   "outputs": [],
   "source": []
  }
 ],
 "metadata": {
  "kernelspec": {
   "display_name": "Python 3",
   "language": "python",
   "name": "python3"
  },
  "language_info": {
   "codemirror_mode": {
    "name": "ipython",
    "version": 3
   },
   "file_extension": ".py",
   "mimetype": "text/x-python",
   "name": "python",
   "nbconvert_exporter": "python",
   "pygments_lexer": "ipython3",
   "version": "3.11.6"
  }
 },
 "nbformat": 4,
 "nbformat_minor": 2
}
