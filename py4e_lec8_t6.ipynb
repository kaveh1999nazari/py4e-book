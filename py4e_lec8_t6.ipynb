{
 "cells": [
  {
   "cell_type": "code",
   "execution_count": 16,
   "metadata": {},
   "outputs": [
    {
     "name": "stdout",
     "output_type": "stream",
     "text": [
      "max number = 9\n",
      "min number = 1\n",
      "[8, 7, 3, 5, 1, 9]\n"
     ]
    }
   ],
   "source": [
    "def max(numbers):\n",
    "    max = 0\n",
    "    for num in numbers:\n",
    "        if num > max:\n",
    "            max = num\n",
    "    return max\n",
    "def min(numbers):\n",
    "    min = float('inf')                   #this means ultimate posetive entry\n",
    "    for num in numbers:\n",
    "        if num < min:\n",
    "            min = num\n",
    "    return min\n",
    "numbers = []\n",
    "while True:\n",
    "    user = input('Enter a number = ')\n",
    "    if user.lower() == 'done': break\n",
    "    fuser = int(user)\n",
    "    numbers.append(fuser)\n",
    "print(f'max number = {max(numbers)}')\n",
    "print(f'min number = {min(numbers)}')\n",
    "print(numbers)\n"
   ]
  },
  {
   "cell_type": "code",
   "execution_count": null,
   "metadata": {},
   "outputs": [],
   "source": []
  }
 ],
 "metadata": {
  "kernelspec": {
   "display_name": "Python 3",
   "language": "python",
   "name": "python3"
  },
  "language_info": {
   "codemirror_mode": {
    "name": "ipython",
    "version": 3
   },
   "file_extension": ".py",
   "mimetype": "text/x-python",
   "name": "python",
   "nbconvert_exporter": "python",
   "pygments_lexer": "ipython3",
   "version": "3.11.6"
  }
 },
 "nbformat": 4,
 "nbformat_minor": 2
}
