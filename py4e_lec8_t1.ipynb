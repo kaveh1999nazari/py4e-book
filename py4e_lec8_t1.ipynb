{
 "cells": [
  {
   "cell_type": "code",
   "execution_count": 1,
   "metadata": {},
   "outputs": [
    {
     "name": "stdout",
     "output_type": "stream",
     "text": [
      "None\n"
     ]
    }
   ],
   "source": [
    "# Part A:\n",
    "def chop(t):\n",
    "    del t[0:len(t)+1]\n",
    "numbers = []\n",
    "while True:\n",
    "    t = input('Enter a number = ')\n",
    "    if t == 'done' : break\n",
    "    num = int(t)\n",
    "    numbers.append(num)\n",
    "print(chop(numbers))"
   ]
  },
  {
   "cell_type": "code",
   "execution_count": 4,
   "metadata": {},
   "outputs": [
    {
     "name": "stdout",
     "output_type": "stream",
     "text": [
      "[7, 9]\n"
     ]
    }
   ],
   "source": [
    "# Part B:\n",
    "def middle(t):\n",
    "    del t[0]\n",
    "    del t[-1]\n",
    "    return t\n",
    "numbers = []\n",
    "while True:\n",
    "    user = input('enter a number = ')\n",
    "    if user == 'done': break\n",
    "    user1 = int(user)\n",
    "    numbers.append(user1)\n",
    "print(middle(numbers))\n"
   ]
  }
 ],
 "metadata": {
  "kernelspec": {
   "display_name": "Python 3",
   "language": "python",
   "name": "python3"
  },
  "language_info": {
   "codemirror_mode": {
    "name": "ipython",
    "version": 3
   },
   "file_extension": ".py",
   "mimetype": "text/x-python",
   "name": "python",
   "nbconvert_exporter": "python",
   "pygments_lexer": "ipython3",
   "version": "3.11.6"
  }
 },
 "nbformat": 4,
 "nbformat_minor": 2
}
