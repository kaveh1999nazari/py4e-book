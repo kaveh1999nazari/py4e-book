{
 "cells": [
  {
   "cell_type": "code",
   "execution_count": 1,
   "metadata": {},
   "outputs": [
    {
     "name": "stdout",
     "output_type": "stream",
     "text": [
      "2\n"
     ]
    }
   ],
   "source": [
    "#tamrin 3:\n",
    "def count(user , f_user):\n",
    "    count = 0\n",
    "    for word in user:\n",
    "        if word == f_user:\n",
    "            count += 1\n",
    "    return count\n",
    "user = input('enter your string = ')\n",
    "find_user = input('input a word to find = ')\n",
    "result = count(user , find_user)\n",
    "print(result)"
   ]
  },
  {
   "cell_type": "code",
   "execution_count": null,
   "metadata": {},
   "outputs": [],
   "source": [
    "#tamrin 4:\n",
    "def count(user , f_user):\n",
    "    count = 0\n",
    "    for word in user:\n",
    "        if word == f_user:\n",
    "            count = count + 1\n",
    "    return count\n",
    "user = input('input a word = ')\n",
    "find_user = input('input a letter = ')\n",
    "user1 = user.lower()\n",
    "find1 = find_user.lower()\n",
    "result = count(user1 , find1)\n",
    "print(result)"
   ]
  }
 ],
 "metadata": {
  "kernelspec": {
   "display_name": "Python 3",
   "language": "python",
   "name": "python3"
  },
  "language_info": {
   "codemirror_mode": {
    "name": "ipython",
    "version": 3
   },
   "file_extension": ".py",
   "mimetype": "text/x-python",
   "name": "python",
   "nbconvert_exporter": "python",
   "pygments_lexer": "ipython3",
   "version": "3.11.6"
  }
 },
 "nbformat": 4,
 "nbformat_minor": 2
}
