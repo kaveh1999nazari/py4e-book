{
 "cells": [
  {
   "cell_type": "code",
   "execution_count": 6,
   "metadata": {},
   "outputs": [
    {
     "name": "stdout",
     "output_type": "stream",
     "text": [
      "5 * 6 = 30\n"
     ]
    }
   ],
   "source": [
    "# t1:\n",
    "class Area:\n",
    "    def __init__(self,lenght:int):\n",
    "        self.lenght = lenght\n",
    "\n",
    "    def __mul__(self, width:int):\n",
    "        return self.lenght * width.lenght\n",
    "    \n",
    "len = Area(int(input('Enter lenght = ')))\n",
    "wid = Area(int(input('Enter width = ')))\n",
    "area_rectangle = len * wid\n",
    "print(f'{len.lenght} * {wid.lenght} = {area_rectangle}')"
   ]
  },
  {
   "cell_type": "code",
   "execution_count": 10,
   "metadata": {},
   "outputs": [
    {
     "name": "stdout",
     "output_type": "stream",
     "text": [
      "0 : exit\n",
      "1 : add\n",
      "2 : remove\n",
      "3 : display\n",
      "add : [5]\n",
      "0 : exit\n",
      "1 : add\n",
      "2 : remove\n",
      "3 : display\n",
      "removed : []\n",
      "0 : exit\n",
      "1 : add\n",
      "2 : remove\n",
      "3 : display\n",
      "add : [5]\n",
      "0 : exit\n",
      "1 : add\n",
      "2 : remove\n",
      "3 : display\n",
      "add : [5, 2]\n",
      "0 : exit\n",
      "1 : add\n",
      "2 : remove\n",
      "3 : display\n",
      "add : [5, 2, 6]\n",
      "0 : exit\n",
      "1 : add\n",
      "2 : remove\n",
      "3 : display\n",
      "add : [5, 2, 6, 12]\n",
      "0 : exit\n",
      "1 : add\n",
      "2 : remove\n",
      "3 : display\n",
      "removed : [5, 6, 12]\n",
      "0 : exit\n",
      "1 : add\n",
      "2 : remove\n",
      "3 : display\n",
      "[5, 6, 12]\n",
      "0 : exit\n",
      "1 : add\n",
      "2 : remove\n",
      "3 : display\n"
     ]
    }
   ],
   "source": [
    "# t2:\n",
    "class List:\n",
    "    def __init__(self):\n",
    "        self.n = []\n",
    "    \n",
    "    def add(self,a):\n",
    "        self.n.append(a)\n",
    "    \n",
    "    def remove(self,b):\n",
    "        self.n.remove(b)\n",
    "\n",
    "    def dis(self):\n",
    "        return self.n\n",
    "    \n",
    "check = List()\n",
    "\n",
    "choice = 1\n",
    "while choice != 0:\n",
    "    print('0 : exit\\n1 : add\\n2 : remove\\n3 : display')\n",
    "    choice = int(input('please choice :'))\n",
    "    if choice == 0:\n",
    "        break\n",
    "    elif choice == 1:\n",
    "        a = int(input('please enter a number to add :'))\n",
    "        check.add(a)\n",
    "        print(f'add : {check.dis()}')\n",
    "    elif choice == 2:\n",
    "        b = int(input('please enter a number to remove :'))\n",
    "        check.remove(b)\n",
    "        print(f'removed : {check.dis()}')\n",
    "    elif choice == 3:\n",
    "        print(check.dis())\n",
    "    else:\n",
    "        print('choice correct!')\n"
   ]
  },
  {
   "cell_type": "code",
   "execution_count": 25,
   "metadata": {},
   "outputs": [
    {
     "name": "stdout",
     "output_type": "stream",
     "text": [
      "area of circle : 314.16\n",
      "perimeter of circle : 62.83\n"
     ]
    }
   ],
   "source": [
    "# t3:\n",
    "import math\n",
    "class circle:\n",
    "    def __init__(self,radius):\n",
    "        self.radius = radius\n",
    "    \n",
    "    def area(self):\n",
    "        return round(math.pi * math.pow(self.radius,2),2)\n",
    "\n",
    "    def perimeter(self):\n",
    "        return round(2 * self.radius * math.pi,2)\n",
    "    \n",
    "r = int(input('Enter radius of circle ='))\n",
    "obj = circle(r)\n",
    "print(f'area of circle : {obj.area()}\\nperimeter of circle : {obj.perimeter()}')\n"
   ]
  },
  {
   "cell_type": "code",
   "execution_count": 7,
   "metadata": {},
   "outputs": [
    {
     "name": "stdout",
     "output_type": "stream",
     "text": [
      "please choice which operator do you want?\n",
      "1-add\n",
      "2-negetive\n",
      "3-multipy\n",
      "4-division\n",
      "5-exit\n",
      "a / b = 1.0\n",
      "please choice which operator do you want?\n",
      "1-add\n",
      "2-negetive\n",
      "3-multipy\n",
      "4-division\n",
      "5-exit\n",
      "a * b = 8\n",
      "please choice which operator do you want?\n",
      "1-add\n",
      "2-negetive\n",
      "3-multipy\n",
      "4-division\n",
      "5-exit\n",
      "a + b = 10\n",
      "please choice which operator do you want?\n",
      "1-add\n",
      "2-negetive\n",
      "3-multipy\n",
      "4-division\n",
      "5-exit\n",
      "a - b = -5\n",
      "please choice which operator do you want?\n",
      "1-add\n",
      "2-negetive\n",
      "3-multipy\n",
      "4-division\n",
      "5-exit\n",
      "END!\n"
     ]
    }
   ],
   "source": [
    "# t4:\n",
    "class calculator:\n",
    "\n",
    "    def __init__(self , a , b):\n",
    "        self.a = a\n",
    "        self.b = b\n",
    "    \n",
    "    def add(self):\n",
    "        return self.a + self.b\n",
    "    \n",
    "    def negetive(self):\n",
    "        return self.a - self.b\n",
    "    \n",
    "    def multipy(self):\n",
    "        return self.a * self.b\n",
    "\n",
    "    def division(self):\n",
    "        return self.a / self.b\n",
    "\n",
    "\n",
    "choice = 0\n",
    "while choice != 5:\n",
    "    a= int(input('Enter a ='))\n",
    "    b = int(input('Enter b = ')) \n",
    "    obj = calculator(a , b)\n",
    "    print('please choice which operator do you want?\\n1-add\\n2-negetive\\n3-multipy\\n4-division\\n5-exit')\n",
    "    choice =int(input('please choice : '))\n",
    "    if choice == 1:\n",
    "        print(f'{a} + {b} = {obj.add()}')\n",
    "    elif choice == 2:\n",
    "        print(f'{a} - {b} = {obj.negetive()}')\n",
    "    elif choice == 3:\n",
    "        print(f'{a} * {b} = {obj.multipy()}')\n",
    "    elif choice == 4:\n",
    "        print(f'{a} / {b} = {obj.division()}')\n",
    "    elif choice == 5:\n",
    "        print('END!')\n",
    "    else:\n",
    "        print('choice correct!')\n",
    "\n",
    "    "
   ]
  },
  {
   "cell_type": "code",
   "execution_count": 8,
   "metadata": {},
   "outputs": [
    {
     "name": "stdout",
     "output_type": "stream",
     "text": [
      "your string is :\n",
      "hello world\n"
     ]
    }
   ],
   "source": [
    "# t5:\n",
    "class print1:\n",
    "\n",
    "    def __init__(self):\n",
    "        self.string = ''\n",
    "\n",
    "    def get(self):\n",
    "        self.string = input('Enter a string=')\n",
    "    \n",
    "    def put(self):\n",
    "        print('your string is :')\n",
    "        print(self.string)\n",
    "obj = print1()\n",
    "obj.get()\n",
    "obj.put()"
   ]
  },
  {
   "cell_type": "code",
   "execution_count": 11,
   "metadata": {},
   "outputs": [
    {
     "name": "stdout",
     "output_type": "stream",
     "text": [
      "Subsets: \n",
      "[[], [4], [3], [3, 4], [2], [2, 4], [2, 3], [2, 3, 4]]\n"
     ]
    }
   ],
   "source": [
    "# t6:\n",
    "class sub:  \n",
    "    def f1(self, s1):  \n",
    "        return self.f2([], sorted(s1))  \n",
    " \n",
    "    def f2(self, curr, s1):  \n",
    "        if s1:  \n",
    "            return self.f2(curr, s1[1:]) + self.f2(curr + [s1[0]], s1[1:])  \n",
    "        return [curr]  \n",
    "a=[]\n",
    "n=int(input(\"Enter number of elements of list: \"))\n",
    "for i in range(0,n):\n",
    "    b=int(input(\"Enter element: \"))\n",
    "    a.append(b)\n",
    "print(\"Subsets: \")\n",
    "print(sub().f1(a))"
   ]
  },
  {
   "cell_type": "code",
   "execution_count": 15,
   "metadata": {},
   "outputs": [
    {
     "name": "stdout",
     "output_type": "stream",
     "text": [
      "IV\n"
     ]
    }
   ],
   "source": [
    "# t7:\n",
    "import roman\n",
    "class Changing_to_roman:\n",
    "    def __init__(self,s1):\n",
    "        self.s1 = s1\n",
    "\n",
    "    def integer(self):\n",
    "        self.s1 = int(input('Enter integer number to change='))\n",
    "\n",
    "    def changer(self):\n",
    "        print(roman.toRoman(self.s1))\n",
    "\n",
    "obj = Changing_to_roman(s1)\n",
    "obj.integer()\n",
    "obj.changer()"
   ]
  },
  {
   "cell_type": "code",
   "execution_count": 20,
   "metadata": {},
   "outputs": [
    {
     "name": "stdout",
     "output_type": "stream",
     "text": [
      "4\n"
     ]
    }
   ],
   "source": [
    "# t8:\n",
    "class changing_to_int(Changing_to_roman):\n",
    "    \n",
    "    def __init__(self, s1):\n",
    "        super().__init__(s1)\n",
    "\n",
    "    def Roman(self):\n",
    "        self.s1 = input('Enter roman =')\n",
    "    \n",
    "    def changer(self):\n",
    "        print(roman.fromRoman(self.s1))\n",
    "obj1 = changing_to_int(s1)\n",
    "obj1.Roman()\n",
    "obj1.changer()"
   ]
  },
  {
   "cell_type": "code",
   "execution_count": 1,
   "metadata": {},
   "outputs": [
    {
     "name": "stdout",
     "output_type": "stream",
     "text": [
      "valid entry\n"
     ]
    }
   ],
   "source": [
    "# t9:\n",
    "import re\n",
    "class Check:\n",
    "    def __init__(self,user):\n",
    "        self.user = user\n",
    "    def get(self):\n",
    "        self.user = input('Enter string =')\n",
    "    \n",
    "    def check(self,user):\n",
    "        if re.match(r'\\(\\)|\\{\\}|\\[\\]', user):\n",
    "            print(self.user)\n",
    "        else:\n",
    "            print('valid entry')\n",
    "obj = Check('a')\n",
    "obj.get()\n",
    "obj.check(obj.user)"
   ]
  },
  {
   "cell_type": "code",
   "execution_count": null,
   "metadata": {},
   "outputs": [],
   "source": [
    "# t10:"
   ]
  },
  {
   "cell_type": "code",
   "execution_count": 2,
   "metadata": {},
   "outputs": [
    {
     "name": "stdout",
     "output_type": "stream",
     "text": [
      "جفتی با مجموع 13 پیدا شد: (8, 5)\n"
     ]
    }
   ],
   "source": [
    "# t11:\n",
    "class PairFinder:\n",
    "    def __init__(self, nums):\n",
    "        self.nums = nums  #entry\n",
    "        self.pair_dict = {}    #for save value\n",
    "\n",
    "    def find_pair(self, target):\n",
    "        for i, num in enumerate(self.nums):   #enumerate is a module that ((0,nums[0]) , (1,nums[1]) , ...)\n",
    "            complement = target - num\n",
    "            if complement in self.pair_dict:\n",
    "                index1 = self.pair_dict[complement]\n",
    "                index2 = i\n",
    "                return index1, index2\n",
    "            self.pair_dict[num] = i\n",
    "        return None\n",
    "    \n",
    "nums = [2, 4, 8, 5, 9]\n",
    "target_sum = 13\n",
    "\n",
    "pair_finder = PairFinder(nums)\n",
    "result = pair_finder.find_pair(target_sum)\n",
    "\n",
    "if result:\n",
    "    index1, index2 = result\n",
    "    print(f\"جفتی با مجموع {target_sum} پیدا شد: ({nums[index1]}, {nums[index2]})\")\n",
    "else:\n",
    "    print(\"هیچ جفتی پیدا نشد.\")"
   ]
  },
  {
   "cell_type": "code",
   "execution_count": 3,
   "metadata": {},
   "outputs": [
    {
     "data": {
      "text/plain": [
       "[[-10, 2, 8], [-10, 4, 6], [-9, 3, 6], [-7, -3, 10], [-7, 3, 4]]"
      ]
     },
     "execution_count": 3,
     "metadata": {},
     "output_type": "execute_result"
    }
   ],
   "source": [
    "# t12:\n",
    "class py_lst:\n",
    "    def lst(self,nums):\n",
    "        nums , i , result = sorted(nums) , 0 , []\n",
    "        while i < len(nums) - 2:\n",
    "            j , k = i+1 , len(nums) - 1\n",
    "            while j < k:\n",
    "                if nums[i] + nums[j] + nums[k] < 0:\n",
    "                    j += 1\n",
    "                elif nums[i] + nums[j] + nums[k] > 0:\n",
    "                    k -= 1\n",
    "                else:\n",
    "                    result.append([nums[i],nums[j],nums[k]])\n",
    "                    j , k = j+1,k-1\n",
    "                    while j<k and nums[j] == nums[j-1]:\n",
    "                        j += 1\n",
    "                    while j<k and nums[k] == nums[k+1]:\n",
    "                        k -= 1\n",
    "            i+=1\n",
    "            while i<len(nums)-2 and nums[i] == nums[i-1]:\n",
    "                i += 1\n",
    "        return result\n",
    "num = [-25, -7, -3, 2, 4, 8, 10, -10,3,6,-9] \n",
    "obj = py_lst()\n",
    "obj.lst(num)\n"
   ]
  },
  {
   "cell_type": "code",
   "execution_count": 37,
   "metadata": {},
   "outputs": [
    {
     "name": "stdout",
     "output_type": "stream",
     "text": [
      "5 ** 2 = 25\n"
     ]
    }
   ],
   "source": [
    "# t13:\n",
    "class POW:\n",
    "\n",
    "    def __init__(self,x,y):\n",
    "        self.x = x\n",
    "        self.y = y\n",
    "    \n",
    "    def get(self):\n",
    "        self.x = int(input('x = '))\n",
    "        self.y = int(input('y = '))\n",
    "    \n",
    "    def pow(self):\n",
    "        return self.x ** self.y\n",
    "\n",
    "obj = POW(0,0)\n",
    "obj.get()\n",
    "print(f'{obj.x} ** {obj.y} = {obj.pow()}')"
   ]
  },
  {
   "cell_type": "code",
   "execution_count": 41,
   "metadata": {},
   "outputs": [
    {
     "data": {
      "text/plain": [
       "'abab'"
      ]
     },
     "execution_count": 41,
     "metadata": {},
     "output_type": "execute_result"
    }
   ],
   "source": [
    "# t14_type1:\n",
    "class String:\n",
    "\n",
    "    def __init__(self , string):\n",
    "        self.string = string\n",
    "\n",
    "    def get(self):\n",
    "        self.string = input('Enter string =')\n",
    "\n",
    "    def reverse(self):\n",
    "        return self.string[::-1]\n",
    "\n",
    "obj = String('a')\n",
    "obj.get()\n",
    "obj.reverse()"
   ]
  },
  {
   "cell_type": "code",
   "execution_count": 42,
   "metadata": {},
   "outputs": [
    {
     "data": {
      "text/plain": [
       "'world hello'"
      ]
     },
     "execution_count": 42,
     "metadata": {},
     "output_type": "execute_result"
    }
   ],
   "source": [
    "# t14_type2:\n",
    "class String:\n",
    "    def reversed(self , s):\n",
    "        return ' '.join(reversed(s.split()))\n",
    "obj = String()\n",
    "obj.reversed('hello world')"
   ]
  },
  {
   "cell_type": "code",
   "execution_count": 47,
   "metadata": {},
   "outputs": [
    {
     "name": "stdout",
     "output_type": "stream",
     "text": [
      "KAVEH\n"
     ]
    }
   ],
   "source": [
    "# t15:\n",
    "class String:\n",
    "    def __init__(self,string):\n",
    "        self.string = string\n",
    "\n",
    "    def get_string(self):\n",
    "        self.string = input('Enter a string =')\n",
    "    \n",
    "    def print_string(self):\n",
    "        print(self.string.upper())\n",
    "\n",
    "obj = String('a')\n",
    "obj.get_string()\n",
    "obj.print_string()\n"
   ]
  },
  {
   "cell_type": "code",
   "execution_count": 50,
   "metadata": {},
   "outputs": [
    {
     "name": "stdout",
     "output_type": "stream",
     "text": [
      "Area of rectangle:\n",
      "5 * 6 = 30\n"
     ]
    }
   ],
   "source": [
    "# t16:\n",
    "class Rectangle:\n",
    "    def __init__(self,x , y):\n",
    "        self.x = x\n",
    "        self.y = y\n",
    "    def get(self):\n",
    "        self.x = int(input('x ='))\n",
    "        self.y = int(input('y ='))\n",
    "    def Area(self):\n",
    "        return self.x * self.y\n",
    "obj = Rectangle(2,3)\n",
    "obj.get()\n",
    "print('Area of rectangle:')\n",
    "print(f'{obj.x} * {obj.y} = {obj.Area()}')"
   ]
  },
  {
   "cell_type": "code",
   "execution_count": 59,
   "metadata": {},
   "outputs": [
    {
     "name": "stdout",
     "output_type": "stream",
     "text": [
      "r :\n",
      "5\n",
      "Area of circle :\n",
      "78.54\n",
      "Perimeter of circle :\n",
      "31.42\n"
     ]
    }
   ],
   "source": [
    "# t17:\n",
    "import math\n",
    "class Circle:\n",
    "    def __init__(self,r):\n",
    "        self.r = r\n",
    "    def get(self):\n",
    "        self.r = int(input('r ='))\n",
    "    def Area(self):\n",
    "        return round(math.pi * math.pow(self.r,2),2)\n",
    "    def Perimeter(self):\n",
    "        return round(2 * self.r * math.pi,2)\n",
    "    \n",
    "obj = Circle(1)\n",
    "obj.get()\n",
    "print(f'r :\\n{obj.r}')\n",
    "print(f'Area of circle :\\n{obj.Area()}')\n",
    "print(f'Perimeter of circle :\\n{obj.Perimeter()}')"
   ]
  },
  {
   "cell_type": "code",
   "execution_count": 62,
   "metadata": {},
   "outputs": [
    {
     "name": "stdout",
     "output_type": "stream",
     "text": [
      "cycle\n"
     ]
    }
   ],
   "source": [
    "# t18:\n",
    "import itertools\n",
    "x = itertools.cycle('kaveh')\n",
    "print(type(x).__name__)\n"
   ]
  },
  {
   "cell_type": "code",
   "execution_count": null,
   "metadata": {},
   "outputs": [],
   "source": []
  }
 ],
 "metadata": {
  "kernelspec": {
   "display_name": "kaveh",
   "language": "python",
   "name": "python3"
  },
  "language_info": {
   "codemirror_mode": {
    "name": "ipython",
    "version": 3
   },
   "file_extension": ".py",
   "mimetype": "text/x-python",
   "name": "python",
   "nbconvert_exporter": "python",
   "pygments_lexer": "ipython3",
   "version": "3.9.18"
  }
 },
 "nbformat": 4,
 "nbformat_minor": 2
}
