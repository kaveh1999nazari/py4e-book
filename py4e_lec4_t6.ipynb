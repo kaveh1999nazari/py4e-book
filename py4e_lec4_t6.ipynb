{
 "cells": [
  {
   "cell_type": "code",
   "execution_count": 4,
   "metadata": {},
   "outputs": [
    {
     "name": "stdout",
     "output_type": "stream",
     "text": [
      "please enter number instead of text or float!\n"
     ]
    }
   ],
   "source": [
    "def computepay(hour , rate):\n",
    "    if hour < 40 :         #for lower than 40$\n",
    "        payment = hour * rate\n",
    "        return payment\n",
    "    elif hour > 40 :      #for higher than 40$\n",
    "        payment = (hour - 40) * (1.5 * rate) + (40 * rate)\n",
    "        return payment\n",
    "\n",
    "try:\n",
    "    hour = int(input('please enter your hours work = '))\n",
    "    rate = int(input('please enter your rate per hour = '))\n",
    "    result = int(computepay(hour , rate))\n",
    "    print('your salary is' , result , '$')\n",
    "except:\n",
    "    print('please enter number instead of text or float!')"
   ]
  },
  {
   "cell_type": "code",
   "execution_count": 2,
   "metadata": {},
   "outputs": [
    {
     "name": "stdout",
     "output_type": "stream",
     "text": [
      "your salary is 475.0 $\n"
     ]
    }
   ],
   "source": []
  },
  {
   "cell_type": "code",
   "execution_count": null,
   "metadata": {},
   "outputs": [],
   "source": []
  }
 ],
 "metadata": {
  "kernelspec": {
   "display_name": "Python 3",
   "language": "python",
   "name": "python3"
  },
  "language_info": {
   "codemirror_mode": {
    "name": "ipython",
    "version": 3
   },
   "file_extension": ".py",
   "mimetype": "text/x-python",
   "name": "python",
   "nbconvert_exporter": "python",
   "pygments_lexer": "ipython3",
   "version": "3.9.18"
  }
 },
 "nbformat": 4,
 "nbformat_minor": 2
}
