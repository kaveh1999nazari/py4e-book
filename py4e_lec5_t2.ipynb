{
 "cells": [
  {
   "cell_type": "code",
   "execution_count": 17,
   "metadata": {},
   "outputs": [
    {
     "name": "stdout",
     "output_type": "stream",
     "text": [
      "invalid input!\n",
      "invalid input!\n",
      "invalid input!\n",
      "invalid input!\n",
      "invalid input!\n",
      "no number is entry!\n"
     ]
    }
   ],
   "source": [
    "def max(bigs):\n",
    "    largest = None\n",
    "    for big in bigs:\n",
    "        if largest is None or big > largest:\n",
    "            largest = big\n",
    "    return largest\n",
    "def min(smalls):\n",
    "    smallest = None\n",
    "    for small in smalls:\n",
    "        if smallest is None or small < smallest:\n",
    "            smallest = small\n",
    "    return smallest\n",
    "if __name__ == '__main__':\n",
    "    numbers = []\n",
    "while True:\n",
    "    try:\n",
    "        user = input('Enter a number = ')\n",
    "        if user.lower() == 'done':\n",
    "            break\n",
    "        number = float(user)\n",
    "        numbers.append(number)\n",
    "    except ValueError:\n",
    "        print('invalid input!')\n",
    "if numbers:\n",
    "    max = max(numbers)\n",
    "    min = min(numbers)\n",
    "    print(sorted(numbers))      #sorted(x) is sort the list\n",
    "    print('max number =', max , '/' , 'min number =', min)    \n",
    "else :\n",
    "    print('no number is entry!')"
   ]
  },
  {
   "cell_type": "code",
   "execution_count": null,
   "metadata": {},
   "outputs": [],
   "source": []
  }
 ],
 "metadata": {
  "kernelspec": {
   "display_name": "Python 3",
   "language": "python",
   "name": "python3"
  },
  "language_info": {
   "codemirror_mode": {
    "name": "ipython",
    "version": 3
   },
   "file_extension": ".py",
   "mimetype": "text/x-python",
   "name": "python",
   "nbconvert_exporter": "python",
   "pygments_lexer": "ipython3",
   "version": "3.11.6"
  }
 },
 "nbformat": 4,
 "nbformat_minor": 2
}
