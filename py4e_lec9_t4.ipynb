{
 "cells": [
  {
   "cell_type": "code",
   "execution_count": 3,
   "metadata": {},
   "outputs": [
    {
     "name": "stdout",
     "output_type": "stream",
     "text": [
      "cwen@iupui.edu 5\n"
     ]
    }
   ],
   "source": [
    "fname = open('mbox-short.txt')\n",
    "dict = {}\n",
    "for line in fname:\n",
    "    line = line.rstrip()\n",
    "    line = line.lower()\n",
    "    if not line.startswith('from'): continue\n",
    "    line = line.split()\n",
    "    if len(line) > 3:\n",
    "        line = line[1]\n",
    "        if line in dict:\n",
    "            dict[line] +=1\n",
    "        else:\n",
    "            dict[line] = 1\n",
    "max_dict = max(dict, key=dict.get)\n",
    "print(max_dict , dict[max_dict])\n",
    "\n",
    "\n"
   ]
  },
  {
   "cell_type": "code",
   "execution_count": null,
   "metadata": {},
   "outputs": [],
   "source": []
  }
 ],
 "metadata": {
  "kernelspec": {
   "display_name": "Python 3",
   "language": "python",
   "name": "python3"
  },
  "language_info": {
   "codemirror_mode": {
    "name": "ipython",
    "version": 3
   },
   "file_extension": ".py",
   "mimetype": "text/x-python",
   "name": "python",
   "nbconvert_exporter": "python",
   "pygments_lexer": "ipython3",
   "version": "3.11.6"
  }
 },
 "nbformat": 4,
 "nbformat_minor": 2
}
