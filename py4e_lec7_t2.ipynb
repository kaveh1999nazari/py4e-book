{
 "cells": [
  {
   "cell_type": "code",
   "execution_count": 71,
   "metadata": {},
   "outputs": [
    {
     "name": "stdout",
     "output_type": "stream",
     "text": [
      "total = 1.9907\n",
      "all of spam-confidence = 27\n",
      "average of spam-confidence = 0.07372962962962963\n"
     ]
    }
   ],
   "source": [
    "fname = open('mbox-short.txt')\n",
    "for line in fname:\n",
    "    if line.startswith('X-DSPAM-Confidence:'):\n",
    "        line.rstrip()\n",
    "        x = float(line.split(':')[1])\n",
    "        x += 1\n",
    "        y = len(line)\n",
    "print(f'total = {x}')\n",
    "print(f'all of spam-confidence = {y}')\n",
    "print(f'average of spam-confidence = {x / y}')"
   ]
  },
  {
   "cell_type": "code",
   "execution_count": 77,
   "metadata": {},
   "outputs": [
    {
     "name": "stdout",
     "output_type": "stream",
     "text": [
      "total = 1.9836\n",
      "all of spam-confidence = 27\n",
      "average of spam-confidence = 0.07346666666666667\n"
     ]
    }
   ],
   "source": [
    "fname = open('mbox.txt')\n",
    "for line in fname:\n",
    "    if line.startswith('X-DSPAM-Confidence:'):\n",
    "        line.rstrip()\n",
    "        x = float(line.split(':')[1])\n",
    "        x += 1\n",
    "        y = len(line)\n",
    "print(f'total = {x}')\n",
    "print(f'all of spam-confidence = {y}')\n",
    "print(f'average of spam-confidence = {x / y}')\n",
    "\n"
   ]
  },
  {
   "cell_type": "code",
   "execution_count": 75,
   "metadata": {},
   "outputs": [],
   "source": [
    "# thats all i get from lesson and understand it , if you solve it by another way please tell me :)"
   ]
  }
 ],
 "metadata": {
  "kernelspec": {
   "display_name": "Python 3",
   "language": "python",
   "name": "python3"
  },
  "language_info": {
   "codemirror_mode": {
    "name": "ipython",
    "version": 3
   },
   "file_extension": ".py",
   "mimetype": "text/x-python",
   "name": "python",
   "nbconvert_exporter": "python",
   "pygments_lexer": "ipython3",
   "version": "3.11.6"
  }
 },
 "nbformat": 4,
 "nbformat_minor": 2
}
