{
 "cells": [
  {
   "cell_type": "code",
   "execution_count": 4,
   "metadata": {},
   "outputs": [
    {
     "name": "stdout",
     "output_type": "stream",
     "text": [
      "['But', 'soft', 'what', 'light', 'through', 'yonder', 'window', 'breaks', 'It', 'is', 'the', 'east', 'and', 'Juliet', 'is', 'the', 'sun', 'Arise', 'fair', 'sun', 'and', 'kill', 'the', 'envious', 'moon', 'Who', 'is', 'already', 'sick', 'and', 'pale', 'with', 'grief']\n"
     ]
    }
   ],
   "source": [
    "# Part A:\n",
    "fname = open('romeo.txt')\n",
    "rname = fname.read()\n",
    "\n",
    "numbers = rname.split()\n",
    "print(numbers)\n"
   ]
  },
  {
   "cell_type": "code",
   "execution_count": 6,
   "metadata": {},
   "outputs": [
    {
     "name": "stdout",
     "output_type": "stream",
     "text": [
      "But : its new and added\n",
      "soft : its new and added\n",
      "what : its new and added\n",
      "light : its new and added\n",
      "through : its new and added\n",
      "yonder : its new and added\n",
      "window : its new and added\n",
      "breaks : its new and added\n",
      "It : its new and added\n",
      "is : its new and added\n",
      "the : its new and added\n",
      "east : its new and added\n",
      "and : its new and added\n",
      "Juliet : its new and added\n",
      "is : it has before\n",
      "the : it has before\n",
      "sun : its new and added\n",
      "Arise : its new and added\n",
      "fair : its new and added\n",
      "sun : it has before\n",
      "and : it has before\n",
      "kill : its new and added\n",
      "the : it has before\n",
      "envious : its new and added\n",
      "moon : its new and added\n",
      "Who : its new and added\n",
      "is : it has before\n",
      "already : its new and added\n",
      "sick : its new and added\n",
      "and : it has before\n",
      "pale : its new and added\n",
      "with : its new and added\n",
      "grief : its new and added\n"
     ]
    }
   ],
   "source": [
    "# Part B:\n",
    "fname = open('romeo.txt')\n",
    "rname = fname.read()\n",
    "y = rname.split()\n",
    "word_list = []\n",
    "for number in y:\n",
    "    if number in word_list:\n",
    "        print(f'{number} : it has before')\n",
    "    else:\n",
    "        word_list.append(number)\n",
    "        print(f'{number} : its new and added')\n",
    "        "
   ]
  },
  {
   "cell_type": "code",
   "execution_count": 3,
   "metadata": {},
   "outputs": [
    {
     "name": "stdout",
     "output_type": "stream",
     "text": [
      "['Arise', 'But', 'It', 'Juliet', 'Who', 'already', 'and', 'and', 'and', 'breaks', 'east', 'envious', 'fair', 'grief', 'is', 'is', 'is', 'kill', 'light', 'moon', 'pale', 'sick', 'soft', 'sun', 'sun', 'the', 'the', 'the', 'through', 'what', 'window', 'with', 'yonder']\n"
     ]
    }
   ],
   "source": [
    "# Part C:\n",
    "numbers.sort()\n",
    "print(numbers)"
   ]
  }
 ],
 "metadata": {
  "kernelspec": {
   "display_name": "Python 3",
   "language": "python",
   "name": "python3"
  },
  "language_info": {
   "codemirror_mode": {
    "name": "ipython",
    "version": 3
   },
   "file_extension": ".py",
   "mimetype": "text/x-python",
   "name": "python",
   "nbconvert_exporter": "python",
   "pygments_lexer": "ipython3",
   "version": "3.11.6"
  }
 },
 "nbformat": 4,
 "nbformat_minor": 2
}
